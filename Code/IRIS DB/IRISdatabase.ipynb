{
 "cells": [
  {
   "cell_type": "markdown",
   "id": "747c9fb7",
   "metadata": {},
   "source": [
    "## IRIS Database Generator\n",
    "- Build IRIS database from .csv \n",
    "- Store ePROM data (SQL DB)\n",
    "- Vectorize ePROM options (vector DB)"
   ]
  },
  {
   "cell_type": "code",
   "execution_count": null,
   "id": "c365ad4b-e6f9-417f-956b-0590f066d726",
   "metadata": {},
   "outputs": [],
   "source": [
    "# Load data into dataframe \n",
    "import pandas as pd"
   ]
  }
 ],
 "metadata": {
  "kernelspec": {
   "display_name": "Python 3",
   "language": "python",
   "name": "python3"
  },
  "language_info": {
   "codemirror_mode": {
    "name": "ipython",
    "version": 3
   },
   "file_extension": ".py",
   "mimetype": "text/x-python",
   "name": "python",
   "nbconvert_exporter": "python",
   "pygments_lexer": "ipython3",
   "version": "3.12.4"
  }
 },
 "nbformat": 4,
 "nbformat_minor": 5
}
